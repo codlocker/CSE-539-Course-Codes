{
 "cells": [
  {
   "cell_type": "code",
   "execution_count": 6,
   "id": "a06fc814",
   "metadata": {},
   "outputs": [],
   "source": [
    "import numpy as np\n",
    "import random as random\n",
    "import matplotlib.pyplot as plt\n"
   ]
  },
  {
   "cell_type": "code",
   "execution_count": 7,
   "id": "facd7673",
   "metadata": {},
   "outputs": [],
   "source": [
    "list_of_words = []\n",
    "with open('data/honeywords_10000.txt', 'r') as f:\n",
    "    list_of_words = f.readlines()\n",
    "\n",
    "for i in range(0, len(list_of_words)):\n",
    "    list_of_words[i] = list_of_words[i].split('\\n')[0]\n"
   ]
  },
  {
   "cell_type": "code",
   "execution_count": 8,
   "id": "ec8190c3",
   "metadata": {},
   "outputs": [
    {
     "data": {
      "text/plain": [
       "[['1',\n",
       "  'ipsit',\n",
       "  'paredes,trance,glorioso,Dragon,fluturas,philip,chiquita,ilovegod,larry,lilwayne1,trustme,sadad,maemae,vauxhall,princeton,lol123,luckystar,reece,catalina,spongebob,horselover\\n']]"
      ]
     },
     "execution_count": 8,
     "metadata": {},
     "output_type": "execute_result"
    }
   ],
   "source": [
    "list_of_accounts = []\n",
    "with open('data/username_password.txt', 'r') as f:\n",
    "    lines = f.readlines()\n",
    "    for line in lines:\n",
    "        line = line.split('\\t')\n",
    "        list_of_accounts.append(line)\n",
    "list_of_accounts[:5]"
   ]
  },
  {
   "cell_type": "code",
   "execution_count": 16,
   "id": "a82fb4cf",
   "metadata": {},
   "outputs": [
    {
     "name": "stdout",
     "output_type": "stream",
     "text": [
      "0\n",
      "User ipsit exists Try login\n"
     ]
    }
   ],
   "source": [
    "# Registration phase for a user\n",
    "index_of_new_account = len(list_of_accounts) + 1\n",
    "\n",
    "def put_account_honey(index, username, passwords, index_actual):\n",
    "    \n",
    "    print(type(passwords.tolist()))\n",
    "    new_entry_pwd = str(index) + \"\\t\" + str(username) + \"\\t\" + \",\".join(passwords)\n",
    "    new_entry_index = str(index) + \"\\t\" + str(username) + \"\\t\" + str(index_actual)\n",
    "    \n",
    "    print(new_entry_pwd)\n",
    "    print(new_entry_index)\n",
    "    \n",
    "    with open('data/username_password.txt', 'w') as f:\n",
    "        f.write(new_entry_pwd + \"\\n\")\n",
    "        f.close()\n",
    "        \n",
    "    with open('data/username_index.txt', 'w') as f:\n",
    "        f.write(new_entry_index)\n",
    "        f.close()\n",
    "        \n",
    "        \n",
    "def put_account_normal(index, username, password):\n",
    "    new_entry_pwd = str(index) + \"\\t\" + str(username) + \"\\t\" + password\n",
    "    with open('username_password_normal.txt') as f:\n",
    "        f.write(new_entry_pwd)\n",
    "    \n",
    "    \n",
    "\n",
    "def register_user(index, user_name, password):\n",
    "    # Check user exists:\n",
    "    user_index = -1\n",
    "    for i in range(0, len(list_of_accounts)):\n",
    "        user = list_of_accounts[i][1]\n",
    "        if(user == user_name):\n",
    "            user_index = i\n",
    "    print(user_index)\n",
    "    \n",
    "    if user_index == -1:\n",
    "        honey_values = np.random.choice(list_of_words, 20).tolist()\n",
    "        print('Honey Words:', honey_values)\n",
    "\n",
    "        honey_values.append(password)\n",
    "\n",
    "        np.random.shuffle(honey_values)\n",
    "\n",
    "        index_of_password = honey_values.index(password)\n",
    "\n",
    "        print('Index of password: ', \n",
    "              index_of_password)\n",
    "\n",
    "        # Store username and password list to a db\n",
    "        # Store username and index in another db\n",
    "        put_account(index, user_name, possible_passwords, index_of_password[0][0])\n",
    "    else:\n",
    "        print('User', user_name, 'exists', 'Try login')\n",
    "    \n",
    "register_user(index_of_new_account, 'ipsit', 'sadad')"
   ]
  }
 ],
 "metadata": {
  "kernelspec": {
   "display_name": "Python 3 (ipykernel)",
   "language": "python",
   "name": "python3"
  },
  "language_info": {
   "codemirror_mode": {
    "name": "ipython",
    "version": 3
   },
   "file_extension": ".py",
   "mimetype": "text/x-python",
   "name": "python",
   "nbconvert_exporter": "python",
   "pygments_lexer": "ipython3",
   "version": "3.9.13"
  }
 },
 "nbformat": 4,
 "nbformat_minor": 5
}
