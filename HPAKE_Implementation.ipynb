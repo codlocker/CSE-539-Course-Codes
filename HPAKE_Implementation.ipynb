{
 "cells": [
  {
   "cell_type": "code",
   "execution_count": 105,
   "id": "a06fc814",
   "metadata": {},
   "outputs": [],
   "source": [
    "import numpy as np\n",
    "import random as random\n",
    "import matplotlib.pyplot as plt\n",
    "import seaborn as sns\n",
    "import psutil"
   ]
  },
  {
   "cell_type": "markdown",
   "id": "6acda2da",
   "metadata": {},
   "source": [
    "## Honey Words Password"
   ]
  },
  {
   "cell_type": "code",
   "execution_count": 106,
   "id": "facd7673",
   "metadata": {},
   "outputs": [],
   "source": [
    "list_of_honey_words = []\n",
    "with open('data/honeywords_10000.txt', 'r') as f:\n",
    "    list_of_honey_words = f.readlines()\n",
    "\n",
    "for i in range(0, len(list_of_honey_words)):\n",
    "    list_of_honey_words[i] = list_of_honey_words[i].split('\\n')[0]\n"
   ]
  },
  {
   "cell_type": "markdown",
   "id": "b7148a34",
   "metadata": {},
   "source": [
    "### List of accounts with honey passwords created"
   ]
  },
  {
   "cell_type": "code",
   "execution_count": 107,
   "id": "ec8190c3",
   "metadata": {},
   "outputs": [
    {
     "data": {
      "text/plain": [
       "[['1',\n",
       "  'ipsit',\n",
       "  'paredes,trance,glorioso,Dragon,fluturas,philip,chiquita,ilovegod,larry,lilwayne1,trustme,sadad,maemae,vauxhall,princeton,lol123,luckystar,reece,catalina,spongebob,horselover\\n']]"
      ]
     },
     "execution_count": 107,
     "metadata": {},
     "output_type": "execute_result"
    }
   ],
   "source": [
    "list_of_accounts = []\n",
    "with open('data/username_password_honey.txt', 'r') as f:\n",
    "    lines = f.readlines()\n",
    "    for line in lines:\n",
    "        line = line.split('\\t')\n",
    "        list_of_accounts.append(line)\n",
    "list_of_accounts[:5]"
   ]
  },
  {
   "cell_type": "markdown",
   "id": "f0c6dcb5",
   "metadata": {},
   "source": [
    "## Register user account with honey passord set"
   ]
  },
  {
   "cell_type": "code",
   "execution_count": 108,
   "id": "a82fb4cf",
   "metadata": {},
   "outputs": [
    {
     "name": "stdout",
     "output_type": "stream",
     "text": [
      "0\n",
      "User ipsit exists Try login\n"
     ]
    }
   ],
   "source": [
    "# Registration phase for a user\n",
    "index_of_new_account = len(list_of_accounts) + 1\n",
    "\n",
    "def put_account_honey(index, username, passwords, index_actual):\n",
    "    \n",
    "    print(type(passwords.tolist()))\n",
    "    new_entry_pwd = str(index) + \"\\t\" + str(username) + \"\\t\" + \",\".join(passwords)\n",
    "    new_entry_index = str(index) + \"\\t\" + str(username) + \"\\t\" + str(index_actual)\n",
    "    \n",
    "    print(new_entry_pwd)\n",
    "    print(new_entry_index)\n",
    "    \n",
    "    with open('data/username_password_honey.txt', 'w') as f:\n",
    "        f.write(new_entry_pwd + \"\\n\")\n",
    "        f.close()\n",
    "        \n",
    "    with open('data/username_index_honey.txt', 'w') as f:\n",
    "        f.write(new_entry_index)\n",
    "        f.close()\n",
    "    \n",
    "\n",
    "def register_user(index, user_name, password):\n",
    "    # Check user exists:\n",
    "    user_index = -1\n",
    "    for i in range(0, len(list_of_accounts)):\n",
    "        user = list_of_accounts[i][1]\n",
    "        if(user == user_name):\n",
    "            user_index = i\n",
    "    print(user_index)\n",
    "    \n",
    "    if user_index == -1:\n",
    "        honey_values = np.random.choice(list_of_honey_words, 20).tolist()\n",
    "        print('Honey Words:', honey_values)\n",
    "\n",
    "        honey_values.append(password)\n",
    "\n",
    "        np.random.shuffle(honey_values)\n",
    "\n",
    "        index_of_password = honey_values.index(password)\n",
    "\n",
    "        print('Index of password: ', \n",
    "              index_of_password)\n",
    "\n",
    "        # Store username and password list to a db\n",
    "        # Store username and index in another db\n",
    "        put_account(index, user_name, possible_passwords, index_of_password[0][0])\n",
    "    else:\n",
    "        print('User', user_name, 'exists', 'Try login')\n",
    "    \n",
    "register_user(index_of_new_account, 'ipsit', 'sadad')"
   ]
  },
  {
   "cell_type": "code",
   "execution_count": 109,
   "id": "cadeba57",
   "metadata": {},
   "outputs": [
    {
     "data": {
      "text/plain": [
       "2"
      ]
     },
     "execution_count": 109,
     "metadata": {},
     "output_type": "execute_result"
    }
   ],
   "source": [
    "def login_user_honey(username, password):\n",
    "    \n",
    "    accounts_with_honeywords = []\n",
    "    accounts_with_index = []\n",
    "    status = -1\n",
    "    with open('data/username_password_honey.txt', 'r') as f:\n",
    "        lines = f.readlines()\n",
    "        for line in lines:\n",
    "            line = line.split('\\t')\n",
    "            accounts_with_honeywords.append(line)\n",
    "    \n",
    "    with open('data/username_index_honey.txt', 'r') as f:\n",
    "        lines = f.readlines()\n",
    "        for line in lines:\n",
    "            line = line.split('\\t')\n",
    "            accounts_with_index.append(line)\n",
    "        \n",
    "    # Does user exist\n",
    "    for account in zip(accounts_with_honeywords, accounts_with_index):\n",
    "        if(account[0][1] == username):\n",
    "            # print('Username exists')\n",
    "            \n",
    "            password_index = int(account[1][2])\n",
    "            honey_word_set = account[0][2].split(',')\n",
    "            \n",
    "            if honey_word_set[password_index] == password:\n",
    "                status = 0\n",
    "                # print('Login Successful')\n",
    "            elif password in honey_word_set:\n",
    "                status = 1\n",
    "                # print('Found Honeyword password')\n",
    "            else:\n",
    "                status = 2\n",
    "    return status\n",
    "        \n",
    "login_user_honey('ipsit', 'pass')"
   ]
  },
  {
   "cell_type": "markdown",
   "id": "b001b098",
   "metadata": {},
   "source": [
    "### Attempt 100 logins and see number of iterations till honey word is found"
   ]
  },
  {
   "cell_type": "code",
   "execution_count": 110,
   "id": "70cdd430",
   "metadata": {},
   "outputs": [
    {
     "name": "stdout",
     "output_type": "stream",
     "text": [
      "Attempt 1\n",
      "Attempt 2\n",
      "Attempt 3\n",
      "Attempt 4\n",
      "Attempt 5\n",
      "Attempt 6\n",
      "Attempt 7\n",
      "Attempt 8\n",
      "Attempt 9\n",
      "Attempt 10\n",
      "Attempt 11\n",
      "Attempt 12\n",
      "Attempt 13\n",
      "Attempt 14\n",
      "Attempt 15\n",
      "Attempt 16\n",
      "Attempt 17\n",
      "Attempt 18\n",
      "Attempt 19\n",
      "Attempt 20\n",
      "Attempt 21\n",
      "Attempt 22\n",
      "Attempt 23\n",
      "Attempt 24\n",
      "Attempt 25\n",
      "Attempt 26\n",
      "Attempt 27\n",
      "Attempt 28\n",
      "Attempt 29\n",
      "Attempt 30\n",
      "Attempt 31\n",
      "Attempt 32\n",
      "Attempt 33\n",
      "Attempt 34\n",
      "Attempt 35\n",
      "Attempt 36\n",
      "Attempt 37\n",
      "Attempt 38\n",
      "Attempt 39\n",
      "Attempt 40\n",
      "Attempt 41\n",
      "Attempt 42\n",
      "Attempt 43\n",
      "Attempt 44\n",
      "Attempt 45\n",
      "Attempt 46\n",
      "Attempt 47\n",
      "Attempt 48\n",
      "Attempt 49\n",
      "Attempt 50\n",
      "Attempt 51\n",
      "Attempt 52\n",
      "Attempt 53\n",
      "Attempt 54\n",
      "Attempt 55\n",
      "Attempt 56\n",
      "Attempt 57\n",
      "Attempt 58\n",
      "Attempt 59\n",
      "Attempt 60\n",
      "Attempt 61\n",
      "Attempt 62\n",
      "Attempt 63\n",
      "Attempt 64\n",
      "Attempt 65\n",
      "Attempt 66\n",
      "Attempt 67\n",
      "Attempt 68\n",
      "Attempt 69\n",
      "Attempt 70\n",
      "Attempt 71\n",
      "Attempt 72\n",
      "Attempt 73\n",
      "Attempt 74\n",
      "Attempt 75\n",
      "Attempt 76\n",
      "Attempt 77\n",
      "Attempt 78\n",
      "Attempt 79\n",
      "Attempt 80\n",
      "Attempt 81\n",
      "Attempt 82\n",
      "Attempt 83\n",
      "Attempt 84\n",
      "Attempt 85\n",
      "Attempt 86\n",
      "Attempt 87\n",
      "Attempt 88\n",
      "Attempt 89\n",
      "Attempt 90\n",
      "Attempt 91\n",
      "Attempt 92\n",
      "Attempt 93\n",
      "Attempt 94\n",
      "Attempt 95\n",
      "Attempt 96\n",
      "Attempt 97\n",
      "Attempt 98\n",
      "Attempt 99\n",
      "Attempt 100\n"
     ]
    }
   ],
   "source": [
    "iteration_list = []\n",
    "\n",
    "cpu_usage_honey = psutil.cpu_percent(4)\n",
    "for j in range(0, 100):\n",
    "    print(\"Attempt\", j + 1)\n",
    "    for i in range(0, 2000):\n",
    "        random_word = np.random.choice(list_of_honey_words)\n",
    "\n",
    "        status = login_user_honey('ipsit', random_word)\n",
    "\n",
    "        if status == 1:\n",
    "            # print('Honey word. locking account!!')\n",
    "            \n",
    "            cpu_usage_honey = max(psutil.cpu_percent(4), cpu_usage_honey)\n",
    "            break\n",
    "    iteration_list.append(i + 1)"
   ]
  },
  {
   "cell_type": "code",
   "execution_count": 119,
   "id": "b7358e99",
   "metadata": {},
   "outputs": [],
   "source": [
    "cpu_usage_honey = 18.7"
   ]
  },
  {
   "cell_type": "markdown",
   "id": "97f21438",
   "metadata": {},
   "source": [
    "## Normal password based login with rate limiter"
   ]
  },
  {
   "cell_type": "code",
   "execution_count": 112,
   "id": "ab90c421",
   "metadata": {},
   "outputs": [
    {
     "name": "stdout",
     "output_type": "stream",
     "text": [
      "Account exists\n"
     ]
    },
    {
     "data": {
      "text/plain": [
       "(1, 1)"
      ]
     },
     "execution_count": 112,
     "metadata": {},
     "output_type": "execute_result"
    }
   ],
   "source": [
    "# 3 attempts to login. If you fail, your account and data gets locked\n",
    "rate_limit = 3\n",
    "\n",
    "list_of_accounts = []\n",
    "\n",
    "status = -1\n",
    "\n",
    "with open('./data/username_password_normal.txt', 'r') as f:\n",
    "    accounts = f.readlines()\n",
    "    for account in accounts:\n",
    "        list_of_accounts.append(account.split('\\t'))\n",
    "\n",
    "def put_account_normal(index, username, password):\n",
    "    new_entry_pwd = str(index) + \"\\t\" + str(username) + \"\\t\" + password\n",
    "    with open('./data/username_password_normal.txt', 'w') as f:\n",
    "        f.write(new_entry_pwd)\n",
    "\n",
    "def register_user_normal(username, password):\n",
    "    for account in list_of_accounts:\n",
    "        if(account[1] == username):\n",
    "            print(\"Account exists\")\n",
    "            return\n",
    "    put_account_normal(len(list_of_accounts) + 1, username, password)\n",
    "\n",
    "register_user_normal('ipsit', 'asu_work')\n",
    "\n",
    "def login_user_normal(username, password, count):\n",
    "    if count < rate_limit:\n",
    "        for account in list_of_accounts:\n",
    "            # print(account)\n",
    "            if account[1] == username:\n",
    "                # print('Found Username')\n",
    "                count += 1\n",
    "                if account[2] == password:\n",
    "                    status = 0\n",
    "                    return status, count\n",
    "                else:\n",
    "                    status = 1\n",
    "                    return status, count\n",
    "    return status, count\n",
    "\n",
    "\n",
    "login_user_normal('ipsit', 'pass', 0)"
   ]
  },
  {
   "cell_type": "markdown",
   "id": "fc51fbcf",
   "metadata": {},
   "source": [
    "### Attempt 100 logins with different passwords with rate limiter approach"
   ]
  },
  {
   "cell_type": "code",
   "execution_count": 113,
   "id": "19451a47",
   "metadata": {},
   "outputs": [
    {
     "name": "stdout",
     "output_type": "stream",
     "text": [
      "Attempt 1\n",
      "Attempt 2\n",
      "Attempt 3\n",
      "Attempt 4\n",
      "Attempt 5\n",
      "Attempt 6\n",
      "Attempt 7\n",
      "Attempt 8\n",
      "Attempt 9\n",
      "Attempt 10\n",
      "Attempt 11\n",
      "Attempt 12\n",
      "Attempt 13\n",
      "Attempt 14\n",
      "Attempt 15\n",
      "Attempt 16\n",
      "Attempt 17\n",
      "Attempt 18\n",
      "Attempt 19\n",
      "Attempt 20\n",
      "Attempt 21\n",
      "Attempt 22\n",
      "Attempt 23\n",
      "Attempt 24\n",
      "Attempt 25\n",
      "Attempt 26\n",
      "Attempt 27\n",
      "Attempt 28\n",
      "Attempt 29\n",
      "Attempt 30\n",
      "Attempt 31\n",
      "Attempt 32\n",
      "Attempt 33\n",
      "Attempt 34\n",
      "Attempt 35\n",
      "Attempt 36\n",
      "Attempt 37\n",
      "Attempt 38\n",
      "Attempt 39\n",
      "Attempt 40\n",
      "Attempt 41\n",
      "Attempt 42\n",
      "Attempt 43\n",
      "Attempt 44\n",
      "Attempt 45\n",
      "Attempt 46\n",
      "Attempt 47\n",
      "Attempt 48\n",
      "Attempt 49\n",
      "Attempt 50\n",
      "Attempt 51\n",
      "Attempt 52\n",
      "Attempt 53\n",
      "Attempt 54\n",
      "Attempt 55\n",
      "Attempt 56\n",
      "Attempt 57\n",
      "Attempt 58\n",
      "Attempt 59\n",
      "Attempt 60\n",
      "Attempt 61\n",
      "Attempt 62\n",
      "Attempt 63\n",
      "Attempt 64\n",
      "Attempt 65\n",
      "Attempt 66\n",
      "Attempt 67\n",
      "Attempt 68\n",
      "Attempt 69\n",
      "Attempt 70\n",
      "Attempt 71\n",
      "Attempt 72\n",
      "Attempt 73\n",
      "Attempt 74\n",
      "Attempt 75\n",
      "Attempt 76\n",
      "Attempt 77\n",
      "Attempt 78\n",
      "Attempt 79\n",
      "Attempt 80\n",
      "Attempt 81\n",
      "Attempt 82\n",
      "Attempt 83\n",
      "Attempt 84\n",
      "Attempt 85\n",
      "Attempt 86\n",
      "Attempt 87\n",
      "Attempt 88\n",
      "Attempt 89\n",
      "Attempt 90\n",
      "Attempt 91\n",
      "Attempt 92\n",
      "Attempt 93\n",
      "Attempt 94\n",
      "Attempt 95\n",
      "Attempt 96\n",
      "Attempt 97\n",
      "Attempt 98\n",
      "Attempt 99\n",
      "Attempt 100\n"
     ]
    }
   ],
   "source": [
    "iteration_list_normal = []\n",
    "\n",
    "cpu_usage_normal = psutil.cpu_percent(4)\n",
    "for j in range(0, 100):\n",
    "    count = 0\n",
    "    print(\"Attempt\", j + 1)\n",
    "    for i in range(0, 2000):\n",
    "        random_word = np.random.choice(list_of_honey_words)\n",
    "\n",
    "        status, count = login_user_normal('ipsit', random_word, count)\n",
    "\n",
    "        if status == 1 and count >= rate_limit:\n",
    "            # print('Login failed!!', \"Limit: \", count)\n",
    "            cpu_usage_normal = max(psutil.cpu_percent(4), cpu_usage_normal)\n",
    "            break\n",
    "    iteration_list_normal.append(count)"
   ]
  },
  {
   "cell_type": "code",
   "execution_count": 114,
   "id": "82a6c3ad",
   "metadata": {},
   "outputs": [
    {
     "data": {
      "text/plain": [
       "4.0"
      ]
     },
     "execution_count": 114,
     "metadata": {},
     "output_type": "execute_result"
    }
   ],
   "source": [
    "cpu_usage_normal"
   ]
  },
  {
   "cell_type": "code",
   "execution_count": 115,
   "id": "67638652",
   "metadata": {},
   "outputs": [
    {
     "data": {
      "text/plain": [
       "100"
      ]
     },
     "execution_count": 115,
     "metadata": {},
     "output_type": "execute_result"
    }
   ],
   "source": [
    "len(iteration_list_normal)"
   ]
  },
  {
   "cell_type": "markdown",
   "id": "8a2b3425",
   "metadata": {},
   "source": [
    "### No. of computations required in Honeyword v/s Rate-Limiter with attempts limited to 3"
   ]
  },
  {
   "cell_type": "code",
   "execution_count": 118,
   "id": "04d378f9",
   "metadata": {},
   "outputs": [
    {
     "data": {
      "image/png": "[encoded data removed]",
      "text/plain": [
       "<Figure size 640x480 with 1 Axes>"
      ]
     },
     "metadata": {},
     "output_type": "display_data"
    }
   ],
   "source": [
    "# plt.bar(height=iteration_list, x=range(0, 100))\n",
    "plt.plot(iteration_list)\n",
    "plt.plot(iteration_list_normal)\n",
    "# plt.bar(height=iteration_list_normal, x=range(0, 100))\n",
    "plt.title('Computation effort for each algorithm')\n",
    "plt.xlabel('Iteration Number')\n",
    "plt.ylabel('No. of computations to block a user')\n",
    "plt.legend(['Honeyword-Detection (HPAKE auth)', 'Rate-Limiter Auth'])\n",
    "plt.show()"
   ]
  },
  {
   "cell_type": "code",
   "execution_count": 122,
   "id": "a0ad122e",
   "metadata": {},
   "outputs": [
    {
     "data": {
      "image/png": "[encoded data removed]",
      "text/plain": [
       "<Figure size 640x480 with 1 Axes>"
      ]
     },
     "metadata": {},
     "output_type": "display_data"
    }
   ],
   "source": [
    "# plt.bar(height=iteration_list, x=range(0, 100))\n",
    "plt.bar(height=cpu_usage_honey, x=range(0,1))\n",
    "plt.bar(height=cpu_usage_normal, x=range(0,1))\n",
    "# plt.bar(height=iteration_list_normal, x=range(0, 100))\n",
    "plt.title('CPU Usage for each algorithm')\n",
    "plt.legend(['Honeyword-Detection (HPAKE auth)', 'Rate-Limiter Auth'])\n",
    "plt.show()"
   ]
  }
 ],
 "metadata": {
  "kernelspec": {
   "display_name": "Python 3 (ipykernel)",
   "language": "python",
   "name": "python3"
  },
  "language_info": {
   "codemirror_mode": {
    "name": "ipython",
    "version": 3
   },
   "file_extension": ".py",
   "mimetype": "text/x-python",
   "name": "python",
   "nbconvert_exporter": "python",
   "pygments_lexer": "ipython3",
   "version": "3.9.13"
  }
 },
 "nbformat": 4,
 "nbformat_minor": 5
}
