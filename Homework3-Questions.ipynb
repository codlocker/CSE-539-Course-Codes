{
 "cells": [
  {
   "cell_type": "markdown",
   "id": "7cc79fa6",
   "metadata": {},
   "source": [
    "## Question 1(a)"
   ]
  },
  {
   "cell_type": "code",
   "execution_count": 8,
   "id": "b5ac82aa",
   "metadata": {},
   "outputs": [
    {
     "name": "stdout",
     "output_type": "stream",
     "text": [
      "s1: finalhw\n",
      "Integer of s1 [102, 105, 110, 97, 108, 104, 119]\n",
      "Binary of s1: ['0b1100110', '0b1101001', '0b1101110', '0b1100001', '0b1101100', '0b1101000', '0b1110111']\n",
      "Binary of encrypted b1: ['0b1001101', '0b1000101', '0b1010011', '0b1001001', '0b1011001', '0b1001000', '0b1001000']\n",
      "[77, 69, 83, 73, 89, 72, 72]\n",
      "s2 in numbers:  [116, 104, 105, 114, 100, 104, 119]\n",
      "s2 in binary:  ['0b1110100', '0b1101000', '0b1101001', '0b1110010', '0b1100100', '0b1101000', '0b1110111']\n",
      "k1 xor k2: [43, 44, 61, 40, 53, 32, 63]\n",
      "k1 xor k2 in binary: ['0b101011', '0b101100', '0b111101', '0b101000', '0b110101', '0b100000', '0b111111']\n",
      "['0b1011111', '0b1000100', '0b1010100', '0b1011010', '0b1010001', '0b1001000', '0b1001000']\n"
     ]
    }
   ],
   "source": [
    "s1 = \"finalhw\"\n",
    "s2 = \"thirdhw\"\n",
    "enc_s1 = \"MESIYHH\"\n",
    "def convert_ascii_to_number(s: str):\n",
    "    number =[]\n",
    "    for i in s:\n",
    "        number.append(ord(i))\n",
    "    return number\n",
    "\n",
    "def convert_number_to_binary(numbers: list):\n",
    "    return [bin(number) for number in numbers]\n",
    "\n",
    "print(\"s1:\", s1)\n",
    "b1 = convert_ascii_to_number(s1)\n",
    "print(\"Integer of s1\", b1)\n",
    "print(\"Binary of s1:\", convert_number_to_binary(b1))\n",
    "\n",
    "enc_b1 = convert_ascii_to_number(enc_s1)\n",
    "print(\"Binary of encrypted b1:\", convert_number_to_binary(enc_b1))\n",
    "print(enc_b1)\n",
    "\n",
    "b2 = convert_ascii_to_number(s2)\n",
    "print(\"s2 in numbers: \", b2)\n",
    "print(\"s2 in binary: \", convert_number_to_binary(b2))\n",
    "\n",
    "\n",
    "k1_xor_k2 = [p1 ^ ep1 for (p1, ep1) in zip(b1, enc_b1)]\n",
    "print(\"k1 xor k2:\", k1_xor_k2)\n",
    "print(\"k1 xor k2 in binary:\", convert_number_to_binary(k1_xor_k2))\n",
    "\n",
    "\n",
    "enc_s2 = [bin(p2 ^ k2) for (p2, k2) in zip(b2, k1_xor_k2)]\n",
    "print(enc_s2)\n"
   ]
  },
  {
   "cell_type": "code",
   "execution_count": null,
   "id": "98adef20",
   "metadata": {},
   "outputs": [],
   "source": []
  }
 ],
 "metadata": {
  "kernelspec": {
   "display_name": "Python 3 (ipykernel)",
   "language": "python",
   "name": "python3"
  },
  "language_info": {
   "codemirror_mode": {
    "name": "ipython",
    "version": 3
   },
   "file_extension": ".py",
   "mimetype": "text/x-python",
   "name": "python",
   "nbconvert_exporter": "python",
   "pygments_lexer": "ipython3",
   "version": "3.9.13"
  }
 },
 "nbformat": 4,
 "nbformat_minor": 5
}
